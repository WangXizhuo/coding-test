{
  "cells": [
    {
      "cell_type": "markdown",
      "metadata": {
        "id": "view-in-github",
        "colab_type": "text"
      },
      "source": [
        "<a href=\"https://colab.research.google.com/github/WangXizhuo/coding-test/blob/main/COMP3316_prepare_states.ipynb\" target=\"_parent\"><img src=\"https://colab.research.google.com/assets/colab-badge.svg\" alt=\"Open In Colab\"/></a>"
      ]
    },
    {
      "cell_type": "code",
      "execution_count": 2,
      "metadata": {
        "colab": {
          "base_uri": "https://localhost:8080/"
        },
        "id": "niyFaJHlKSzo",
        "outputId": "19c0e7d7-4465-41c5-e9a4-8df61617a3e2"
      },
      "outputs": [
        {
          "output_type": "stream",
          "name": "stdout",
          "text": [
            "Looking in indexes: https://pypi.org/simple, https://us-python.pkg.dev/colab-wheels/public/simple/\n",
            "Collecting paddle_quantum\n",
            "  Downloading paddle_quantum-2.3.0-py3-none-any.whl (409 kB)\n",
            "\u001b[2K     \u001b[90m━━━━━━━━━━━━━━━━━━━━━━━━━━━━━━━━━━━━━━━\u001b[0m \u001b[32m409.8/409.8 KB\u001b[0m \u001b[31m8.8 MB/s\u001b[0m eta \u001b[36m0:00:00\u001b[0m\n",
            "\u001b[?25hCollecting protobuf<=3.20.1,>=3.1.0\n",
            "  Downloading protobuf-3.20.1-cp39-cp39-manylinux_2_5_x86_64.manylinux1_x86_64.whl (1.0 MB)\n",
            "\u001b[2K     \u001b[90m━━━━━━━━━━━━━━━━━━━━━━━━━━━━━━━━━━━━━━━━\u001b[0m \u001b[32m1.0/1.0 MB\u001b[0m \u001b[31m45.4 MB/s\u001b[0m eta \u001b[36m0:00:00\u001b[0m\n",
            "\u001b[?25hCollecting pyscf\n",
            "  Downloading pyscf-2.2.1-cp39-cp39-manylinux_2_17_x86_64.manylinux2014_x86_64.whl (47.7 MB)\n",
            "\u001b[2K     \u001b[90m━━━━━━━━━━━━━━━━━━━━━━━━━━━━━━━━━━━━━━━━\u001b[0m \u001b[32m47.7/47.7 MB\u001b[0m \u001b[31m15.4 MB/s\u001b[0m eta \u001b[36m0:00:00\u001b[0m\n",
            "\u001b[?25hRequirement already satisfied: rich in /usr/local/lib/python3.9/dist-packages (from paddle_quantum) (13.3.3)\n",
            "Requirement already satisfied: imbalanced-learn in /usr/local/lib/python3.9/dist-packages (from paddle_quantum) (0.10.1)\n",
            "Collecting paddlepaddle<=2.3.0,>=2.2.0\n",
            "  Downloading paddlepaddle-2.3.0-cp39-cp39-manylinux1_x86_64.whl (112.4 MB)\n",
            "\u001b[2K     \u001b[90m━━━━━━━━━━━━━━━━━━━━━━━━━━━━━━━━━━━━━━━\u001b[0m \u001b[32m112.4/112.4 MB\u001b[0m \u001b[31m9.2 MB/s\u001b[0m eta \u001b[36m0:00:00\u001b[0m\n",
            "\u001b[?25hRequirement already satisfied: scipy in /usr/local/lib/python3.9/dist-packages (from paddle_quantum) (1.10.1)\n",
            "Requirement already satisfied: networkx>=2.5 in /usr/local/lib/python3.9/dist-packages (from paddle_quantum) (3.0)\n",
            "Requirement already satisfied: matplotlib>=3.3.0 in /usr/local/lib/python3.9/dist-packages (from paddle_quantum) (3.7.1)\n",
            "Collecting qcompute\n",
            "  Downloading qcompute-3.3.0-py3-none-any.whl (219 kB)\n",
            "\u001b[2K     \u001b[90m━━━━━━━━━━━━━━━━━━━━━━━━━━━━━━━━━━━━━━\u001b[0m \u001b[32m219.9/219.9 KB\u001b[0m \u001b[31m25.8 MB/s\u001b[0m eta \u001b[36m0:00:00\u001b[0m\n",
            "\u001b[?25hRequirement already satisfied: scikit-learn in /usr/local/lib/python3.9/dist-packages (from paddle_quantum) (1.2.2)\n",
            "Collecting fastdtw\n",
            "  Downloading fastdtw-0.3.4.tar.gz (133 kB)\n",
            "\u001b[2K     \u001b[90m━━━━━━━━━━━━━━━━━━━━━━━━━━━━━━━━━━━━━━\u001b[0m \u001b[32m133.4/133.4 KB\u001b[0m \u001b[31m19.5 MB/s\u001b[0m eta \u001b[36m0:00:00\u001b[0m\n",
            "\u001b[?25h  Preparing metadata (setup.py) ... \u001b[?25l\u001b[?25hdone\n",
            "Requirement already satisfied: opencv-python in /usr/local/lib/python3.9/dist-packages (from paddle_quantum) (4.7.0.72)\n",
            "Collecting openfermion\n",
            "  Downloading openfermion-1.5.1-py3-none-any.whl (1.1 MB)\n",
            "\u001b[2K     \u001b[90m━━━━━━━━━━━━━━━━━━━━━━━━━━━━━━━━━━━━━━━━\u001b[0m \u001b[32m1.1/1.1 MB\u001b[0m \u001b[31m19.4 MB/s\u001b[0m eta \u001b[36m0:00:00\u001b[0m\n",
            "\u001b[?25hRequirement already satisfied: cvxpy in /usr/local/lib/python3.9/dist-packages (from paddle_quantum) (1.3.1)\n",
            "Requirement already satisfied: tqdm in /usr/local/lib/python3.9/dist-packages (from paddle_quantum) (4.65.0)\n",
            "Requirement already satisfied: packaging>=20.0 in /usr/local/lib/python3.9/dist-packages (from matplotlib>=3.3.0->paddle_quantum) (23.0)\n",
            "Requirement already satisfied: contourpy>=1.0.1 in /usr/local/lib/python3.9/dist-packages (from matplotlib>=3.3.0->paddle_quantum) (1.0.7)\n",
            "Requirement already satisfied: python-dateutil>=2.7 in /usr/local/lib/python3.9/dist-packages (from matplotlib>=3.3.0->paddle_quantum) (2.8.2)\n",
            "Requirement already satisfied: pillow>=6.2.0 in /usr/local/lib/python3.9/dist-packages (from matplotlib>=3.3.0->paddle_quantum) (8.4.0)\n",
            "Requirement already satisfied: pyparsing>=2.3.1 in /usr/local/lib/python3.9/dist-packages (from matplotlib>=3.3.0->paddle_quantum) (3.0.9)\n",
            "Requirement already satisfied: cycler>=0.10 in /usr/local/lib/python3.9/dist-packages (from matplotlib>=3.3.0->paddle_quantum) (0.11.0)\n",
            "Requirement already satisfied: fonttools>=4.22.0 in /usr/local/lib/python3.9/dist-packages (from matplotlib>=3.3.0->paddle_quantum) (4.39.3)\n",
            "Requirement already satisfied: kiwisolver>=1.0.1 in /usr/local/lib/python3.9/dist-packages (from matplotlib>=3.3.0->paddle_quantum) (1.4.4)\n",
            "Requirement already satisfied: importlib-resources>=3.2.0 in /usr/local/lib/python3.9/dist-packages (from matplotlib>=3.3.0->paddle_quantum) (5.12.0)\n",
            "Requirement already satisfied: numpy>=1.20 in /usr/local/lib/python3.9/dist-packages (from matplotlib>=3.3.0->paddle_quantum) (1.22.4)\n",
            "Requirement already satisfied: decorator in /usr/local/lib/python3.9/dist-packages (from paddlepaddle<=2.3.0,>=2.2.0->paddle_quantum) (4.4.2)\n",
            "Collecting astor\n",
            "  Downloading astor-0.8.1-py2.py3-none-any.whl (27 kB)\n",
            "Requirement already satisfied: requests>=2.20.0 in /usr/local/lib/python3.9/dist-packages (from paddlepaddle<=2.3.0,>=2.2.0->paddle_quantum) (2.27.1)\n",
            "Collecting paddle-bfloat==0.1.2\n",
            "  Downloading paddle_bfloat-0.1.2-cp39-cp39-manylinux_2_5_x86_64.manylinux1_x86_64.manylinux_2_12_x86_64.manylinux2010_x86_64.whl (374 kB)\n",
            "\u001b[2K     \u001b[90m━━━━━━━━━━━━━━━━━━━━━━━━━━━━━━━━━━━━━━\u001b[0m \u001b[32m374.0/374.0 KB\u001b[0m \u001b[31m37.4 MB/s\u001b[0m eta \u001b[36m0:00:00\u001b[0m\n",
            "\u001b[?25hRequirement already satisfied: six in /usr/local/lib/python3.9/dist-packages (from paddlepaddle<=2.3.0,>=2.2.0->paddle_quantum) (1.16.0)\n",
            "Requirement already satisfied: opt-einsum==3.3.0 in /usr/local/lib/python3.9/dist-packages (from paddlepaddle<=2.3.0,>=2.2.0->paddle_quantum) (3.3.0)\n",
            "Requirement already satisfied: setuptools>65.5.1 in /usr/local/lib/python3.9/dist-packages (from cvxpy->paddle_quantum) (67.6.1)\n",
            "Requirement already satisfied: scs>=1.1.6 in /usr/local/lib/python3.9/dist-packages (from cvxpy->paddle_quantum) (3.2.2)\n",
            "Requirement already satisfied: osqp>=0.4.1 in /usr/local/lib/python3.9/dist-packages (from cvxpy->paddle_quantum) (0.6.2.post0)\n",
            "Requirement already satisfied: ecos>=2 in /usr/local/lib/python3.9/dist-packages (from cvxpy->paddle_quantum) (2.0.12)\n",
            "Requirement already satisfied: joblib>=1.1.1 in /usr/local/lib/python3.9/dist-packages (from imbalanced-learn->paddle_quantum) (1.1.1)\n",
            "Requirement already satisfied: threadpoolctl>=2.0.0 in /usr/local/lib/python3.9/dist-packages (from imbalanced-learn->paddle_quantum) (3.1.0)\n",
            "Requirement already satisfied: h5py>=2.8 in /usr/local/lib/python3.9/dist-packages (from openfermion->paddle_quantum) (3.8.0)\n",
            "Collecting deprecation\n",
            "  Downloading deprecation-2.1.0-py2.py3-none-any.whl (11 kB)\n",
            "Collecting cirq-core>=0.15.0\n",
            "  Downloading cirq_core-1.1.0-py3-none-any.whl (1.8 MB)\n",
            "\u001b[2K     \u001b[90m━━━━━━━━━━━━━━━━━━━━━━━━━━━━━━━━━━━━━━━━\u001b[0m \u001b[32m1.8/1.8 MB\u001b[0m \u001b[31m50.2 MB/s\u001b[0m eta \u001b[36m0:00:00\u001b[0m\n",
            "\u001b[?25hRequirement already satisfied: sympy in /usr/local/lib/python3.9/dist-packages (from openfermion->paddle_quantum) (1.11.1)\n",
            "Collecting cirq-google>=0.15.0\n",
            "  Downloading cirq_google-1.1.0-py3-none-any.whl (577 kB)\n",
            "\u001b[2K     \u001b[90m━━━━━━━━━━━━━━━━━━━━━━━━━━━━━━━━━━━━━━\u001b[0m \u001b[32m577.4/577.4 KB\u001b[0m \u001b[31m34.2 MB/s\u001b[0m eta \u001b[36m0:00:00\u001b[0m\n",
            "\u001b[?25hCollecting pubchempy\n",
            "  Downloading PubChemPy-1.0.4.tar.gz (29 kB)\n",
            "  Preparing metadata (setup.py) ... \u001b[?25l\u001b[?25hdone\n",
            "Collecting py-expression-eval==0.3.14\n",
            "  Downloading py_expression_eval-0.3.14-py3-none-any.whl (12 kB)\n",
            "Collecting sympy\n",
            "  Downloading sympy-1.10.1-py3-none-any.whl (6.4 MB)\n",
            "\u001b[2K     \u001b[90m━━━━━━━━━━━━━━━━━━━━━━━━━━━━━━━━━━━━━━━━\u001b[0m \u001b[32m6.4/6.4 MB\u001b[0m \u001b[31m115.8 MB/s\u001b[0m eta \u001b[36m0:00:00\u001b[0m\n",
            "\u001b[?25hCollecting antlr4-python3-runtime==4.10\n",
            "  Downloading antlr4-python3-runtime-4.10.tar.gz (116 kB)\n",
            "\u001b[2K     \u001b[90m━━━━━━━━━━━━━━━━━━━━━━━━━━━━━━━━━━━━━━\u001b[0m \u001b[32m116.6/116.6 KB\u001b[0m \u001b[31m17.2 MB/s\u001b[0m eta \u001b[36m0:00:00\u001b[0m\n",
            "\u001b[?25h  Preparing metadata (setup.py) ... \u001b[?25l\u001b[?25hdone\n",
            "Collecting nanoid==2.0.0\n",
            "  Downloading nanoid-2.0.0-py3-none-any.whl (5.8 kB)\n",
            "Collecting requests>=2.20.0\n",
            "  Downloading requests-2.28.0-py3-none-any.whl (62 kB)\n",
            "\u001b[2K     \u001b[90m━━━━━━━━━━━━━━━━━━━━━━━━━━━━━━━━━━━━━━━━\u001b[0m \u001b[32m62.8/62.8 KB\u001b[0m \u001b[31m10.4 MB/s\u001b[0m eta \u001b[36m0:00:00\u001b[0m\n",
            "\u001b[?25hCollecting bce-python-sdk==0.8.73\n",
            "  Downloading bce_python_sdk-0.8.73-py3-none-any.whl (204 kB)\n",
            "\u001b[2K     \u001b[90m━━━━━━━━━━━━━━━━━━━━━━━━━━━━━━━━━━━━━━\u001b[0m \u001b[32m204.5/204.5 KB\u001b[0m \u001b[31m27.8 MB/s\u001b[0m eta \u001b[36m0:00:00\u001b[0m\n",
            "\u001b[?25hCollecting qcompute\n",
            "  Downloading qcompute-3.2.1-py3-none-any.whl (208 kB)\n",
            "\u001b[2K     \u001b[90m━━━━━━━━━━━━━━━━━━━━━━━━━━━━━━━━━━━━━━\u001b[0m \u001b[32m208.3/208.3 KB\u001b[0m \u001b[31m27.2 MB/s\u001b[0m eta \u001b[36m0:00:00\u001b[0m\n",
            "\u001b[?25h  Downloading qcompute-3.2.0-py3-none-any.whl (218 kB)\n",
            "\u001b[2K     \u001b[90m━━━━━━━━━━━━━━━━━━━━━━━━━━━━━━━━━━━━━━\u001b[0m \u001b[32m218.7/218.7 KB\u001b[0m \u001b[31m26.2 MB/s\u001b[0m eta \u001b[36m0:00:00\u001b[0m\n",
            "\u001b[?25h  Downloading qcompute-3.1.0-py3-none-any.whl (196 kB)\n",
            "\u001b[2K     \u001b[90m━━━━━━━━━━━━━━━━━━━━━━━━━━━━━━━━━━━━━━\u001b[0m \u001b[32m196.0/196.0 KB\u001b[0m \u001b[31m27.8 MB/s\u001b[0m eta \u001b[36m0:00:00\u001b[0m\n",
            "\u001b[?25h  Downloading qcompute-3.0.2-py3-none-any.whl (179 kB)\n",
            "\u001b[2K     \u001b[90m━━━━━━━━━━━━━━━━━━━━━━━━━━━━━━━━━━━━━━\u001b[0m \u001b[32m179.1/179.1 KB\u001b[0m \u001b[31m23.2 MB/s\u001b[0m eta \u001b[36m0:00:00\u001b[0m\n",
            "\u001b[?25hCollecting tqdm\n",
            "  Downloading tqdm-4.64.0-py2.py3-none-any.whl (78 kB)\n",
            "\u001b[2K     \u001b[90m━━━━━━━━━━━━━━━━━━━━━━━━━━━━━━━━━━━━━━━━\u001b[0m \u001b[32m78.4/78.4 KB\u001b[0m \u001b[31m13.2 MB/s\u001b[0m eta \u001b[36m0:00:00\u001b[0m\n",
            "\u001b[?25hCollecting qcompute\n",
            "  Downloading qcompute-3.0.0-py3-none-any.whl (168 kB)\n",
            "\u001b[2K     \u001b[90m━━━━━━━━━━━━━━━━━━━━━━━━━━━━━━━━━━━━━━\u001b[0m \u001b[32m168.6/168.6 KB\u001b[0m \u001b[31m25.1 MB/s\u001b[0m eta \u001b[36m0:00:00\u001b[0m\n",
            "\u001b[?25hCollecting numpy>=1.20\n",
            "  Downloading numpy-1.21.3-cp39-cp39-manylinux_2_12_x86_64.manylinux2010_x86_64.whl (15.7 MB)\n",
            "\u001b[2K     \u001b[90m━━━━━━━━━━━━━━━━━━━━━━━━━━━━━━━━━━━━━━━━\u001b[0m \u001b[32m15.7/15.7 MB\u001b[0m \u001b[31m88.3 MB/s\u001b[0m eta \u001b[36m0:00:00\u001b[0m\n",
            "\u001b[?25hCollecting qcompute\n",
            "  Downloading qcompute-2.0.6-py3-none-any.whl (172 kB)\n",
            "\u001b[2K     \u001b[90m━━━━━━━━━━━━━━━━━━━━━━━━━━━━━━━━━━━━━━\u001b[0m \u001b[32m173.0/173.0 KB\u001b[0m \u001b[31m24.4 MB/s\u001b[0m eta \u001b[36m0:00:00\u001b[0m\n",
            "\u001b[?25h  Downloading qcompute-2.0.4-py3-none-any.whl (96 kB)\n",
            "\u001b[2K     \u001b[90m━━━━━━━━━━━━━━━━━━━━━━━━━━━━━━━━━━━━━━━━\u001b[0m \u001b[32m96.2/96.2 KB\u001b[0m \u001b[31m16.7 MB/s\u001b[0m eta \u001b[36m0:00:00\u001b[0m\n",
            "\u001b[?25hCollecting bidict\n",
            "  Downloading bidict-0.22.1-py3-none-any.whl (35 kB)\n",
            "Collecting pyprimes\n",
            "  Downloading pyprimes-0.1.tar.gz (13 kB)\n",
            "  Preparing metadata (setup.py) ... \u001b[?25l\u001b[?25hdone\n",
            "Collecting bce-python-sdk\n",
            "  Downloading bce_python_sdk-0.8.83-py3-none-any.whl (210 kB)\n",
            "\u001b[2K     \u001b[90m━━━━━━━━━━━━━━━━━━━━━━━━━━━━━━━━━━━━━━\u001b[0m \u001b[32m210.5/210.5 KB\u001b[0m \u001b[31m28.6 MB/s\u001b[0m eta \u001b[36m0:00:00\u001b[0m\n",
            "\u001b[?25hRequirement already satisfied: pygments<3.0.0,>=2.13.0 in /usr/local/lib/python3.9/dist-packages (from rich->paddle_quantum) (2.14.0)\n",
            "Requirement already satisfied: markdown-it-py<3.0.0,>=2.2.0 in /usr/local/lib/python3.9/dist-packages (from rich->paddle_quantum) (2.2.0)\n",
            "Requirement already satisfied: sortedcontainers~=2.0 in /usr/local/lib/python3.9/dist-packages (from cirq-core>=0.15.0->openfermion->paddle_quantum) (2.4.0)\n",
            "Requirement already satisfied: typing-extensions in /usr/local/lib/python3.9/dist-packages (from cirq-core>=0.15.0->openfermion->paddle_quantum) (4.5.0)\n",
            "Requirement already satisfied: pandas in /usr/local/lib/python3.9/dist-packages (from cirq-core>=0.15.0->openfermion->paddle_quantum) (1.4.4)\n",
            "Collecting networkx>=2.5\n",
            "  Downloading networkx-2.8.8-py3-none-any.whl (2.0 MB)\n",
            "\u001b[2K     \u001b[90m━━━━━━━━━━━━━━━━━━━━━━━━━━━━━━━━━━━━━━━━\u001b[0m \u001b[32m2.0/2.0 MB\u001b[0m \u001b[31m101.4 MB/s\u001b[0m eta \u001b[36m0:00:00\u001b[0m\n",
            "\u001b[?25hCollecting duet~=0.2.7\n",
            "  Downloading duet-0.2.7-py3-none-any.whl (28 kB)\n",
            "Requirement already satisfied: proto-plus>=1.20.0 in /usr/local/lib/python3.9/dist-packages (from cirq-google>=0.15.0->openfermion->paddle_quantum) (1.22.2)\n",
            "Collecting google-api-core[grpc]<2.0.0dev,>=1.14.0\n",
            "  Downloading google_api_core-1.34.0-py3-none-any.whl (120 kB)\n",
            "\u001b[2K     \u001b[90m━━━━━━━━━━━━━━━━━━━━━━━━━━━━━━━━━━━━━━\u001b[0m \u001b[32m120.2/120.2 KB\u001b[0m \u001b[31m19.0 MB/s\u001b[0m eta \u001b[36m0:00:00\u001b[0m\n",
            "\u001b[?25hRequirement already satisfied: zipp>=3.1.0 in /usr/local/lib/python3.9/dist-packages (from importlib-resources>=3.2.0->matplotlib>=3.3.0->paddle_quantum) (3.15.0)\n",
            "Requirement already satisfied: mdurl~=0.1 in /usr/local/lib/python3.9/dist-packages (from markdown-it-py<3.0.0,>=2.2.0->rich->paddle_quantum) (0.1.2)\n",
            "Requirement already satisfied: qdldl in /usr/local/lib/python3.9/dist-packages (from osqp>=0.4.1->cvxpy->paddle_quantum) (0.1.5.post3)\n",
            "Requirement already satisfied: urllib3<1.27,>=1.21.1 in /usr/local/lib/python3.9/dist-packages (from requests>=2.20.0->paddlepaddle<=2.3.0,>=2.2.0->paddle_quantum) (1.26.15)\n",
            "Requirement already satisfied: charset-normalizer~=2.0.0 in /usr/local/lib/python3.9/dist-packages (from requests>=2.20.0->paddlepaddle<=2.3.0,>=2.2.0->paddle_quantum) (2.0.12)\n",
            "Requirement already satisfied: certifi>=2017.4.17 in /usr/local/lib/python3.9/dist-packages (from requests>=2.20.0->paddlepaddle<=2.3.0,>=2.2.0->paddle_quantum) (2022.12.7)\n",
            "Requirement already satisfied: idna<4,>=2.5 in /usr/local/lib/python3.9/dist-packages (from requests>=2.20.0->paddlepaddle<=2.3.0,>=2.2.0->paddle_quantum) (3.4)\n",
            "Collecting pycryptodome>=3.8.0\n",
            "  Downloading pycryptodome-3.17-cp35-abi3-manylinux_2_17_x86_64.manylinux2014_x86_64.whl (2.1 MB)\n",
            "\u001b[2K     \u001b[90m━━━━━━━━━━━━━━━━━━━━━━━━━━━━━━━━━━━━━━━━\u001b[0m \u001b[32m2.1/2.1 MB\u001b[0m \u001b[31m101.4 MB/s\u001b[0m eta \u001b[36m0:00:00\u001b[0m\n",
            "\u001b[?25hRequirement already satisfied: future>=0.6.0 in /usr/local/lib/python3.9/dist-packages (from bce-python-sdk->qcompute->paddle_quantum) (0.18.3)\n",
            "Requirement already satisfied: mpmath>=0.19 in /usr/local/lib/python3.9/dist-packages (from sympy->openfermion->paddle_quantum) (1.3.0)\n",
            "Collecting protobuf<=3.20.1,>=3.1.0\n",
            "  Downloading protobuf-3.19.6-cp39-cp39-manylinux_2_17_x86_64.manylinux2014_x86_64.whl (1.1 MB)\n",
            "\u001b[2K     \u001b[90m━━━━━━━━━━━━━━━━━━━━━━━━━━━━━━━━━━━━━━━━\u001b[0m \u001b[32m1.1/1.1 MB\u001b[0m \u001b[31m67.5 MB/s\u001b[0m eta \u001b[36m0:00:00\u001b[0m\n",
            "\u001b[?25hRequirement already satisfied: googleapis-common-protos<2.0dev,>=1.56.2 in /usr/local/lib/python3.9/dist-packages (from google-api-core[grpc]<2.0.0dev,>=1.14.0->cirq-google>=0.15.0->openfermion->paddle_quantum) (1.59.0)\n",
            "Requirement already satisfied: google-auth<3.0dev,>=1.25.0 in /usr/local/lib/python3.9/dist-packages (from google-api-core[grpc]<2.0.0dev,>=1.14.0->cirq-google>=0.15.0->openfermion->paddle_quantum) (2.17.1)\n",
            "Requirement already satisfied: grpcio<2.0dev,>=1.33.2 in /usr/local/lib/python3.9/dist-packages (from google-api-core[grpc]<2.0.0dev,>=1.14.0->cirq-google>=0.15.0->openfermion->paddle_quantum) (1.53.0)\n",
            "Requirement already satisfied: grpcio-status<2.0dev,>=1.33.2 in /usr/local/lib/python3.9/dist-packages (from google-api-core[grpc]<2.0.0dev,>=1.14.0->cirq-google>=0.15.0->openfermion->paddle_quantum) (1.48.2)\n",
            "Requirement already satisfied: pytz>=2020.1 in /usr/local/lib/python3.9/dist-packages (from pandas->cirq-core>=0.15.0->openfermion->paddle_quantum) (2022.7.1)\n",
            "Requirement already satisfied: rsa<5,>=3.1.4 in /usr/local/lib/python3.9/dist-packages (from google-auth<3.0dev,>=1.25.0->google-api-core[grpc]<2.0.0dev,>=1.14.0->cirq-google>=0.15.0->openfermion->paddle_quantum) (4.9)\n",
            "Requirement already satisfied: cachetools<6.0,>=2.0.0 in /usr/local/lib/python3.9/dist-packages (from google-auth<3.0dev,>=1.25.0->google-api-core[grpc]<2.0.0dev,>=1.14.0->cirq-google>=0.15.0->openfermion->paddle_quantum) (5.3.0)\n",
            "Requirement already satisfied: pyasn1-modules>=0.2.1 in /usr/local/lib/python3.9/dist-packages (from google-auth<3.0dev,>=1.25.0->google-api-core[grpc]<2.0.0dev,>=1.14.0->cirq-google>=0.15.0->openfermion->paddle_quantum) (0.2.8)\n",
            "Requirement already satisfied: pyasn1<0.5.0,>=0.4.6 in /usr/local/lib/python3.9/dist-packages (from pyasn1-modules>=0.2.1->google-auth<3.0dev,>=1.25.0->google-api-core[grpc]<2.0.0dev,>=1.14.0->cirq-google>=0.15.0->openfermion->paddle_quantum) (0.4.8)\n",
            "Building wheels for collected packages: fastdtw, pubchempy, pyprimes\n",
            "  Building wheel for fastdtw (setup.py) ... \u001b[?25l\u001b[?25hdone\n",
            "  Created wheel for fastdtw: filename=fastdtw-0.3.4-cp39-cp39-linux_x86_64.whl size=534328 sha256=7435d91324f51fe235f86947939c6e2b8b179eb020804679deb2a9b0e0e0bad4\n",
            "  Stored in directory: /root/.cache/pip/wheels/1f/a1/63/bfd0fddb5bf0b59f564872e29272cee8a2de0cd745d88fede5\n",
            "  Building wheel for pubchempy (setup.py) ... \u001b[?25l\u001b[?25hdone\n",
            "  Created wheel for pubchempy: filename=PubChemPy-1.0.4-py3-none-any.whl size=13837 sha256=ee6a3c99ad6d8f8739f77bd1c2d2ae1d9e7923bdec48e8358cd6a52f0e392041\n",
            "  Stored in directory: /root/.cache/pip/wheels/84/45/0e/b597debba098119b642eaf728ae1883d23ad8ea2a9366f2ded\n",
            "  Building wheel for pyprimes (setup.py) ... \u001b[?25l\u001b[?25hdone\n",
            "  Created wheel for pyprimes: filename=pyprimes-0.1-py3-none-any.whl size=13547 sha256=9c853b3cf47d7d6b630a75e6a2d05d22998e20c04b44a41fdc71f4418b506d25\n",
            "  Stored in directory: /root/.cache/pip/wheels/fe/6f/24/055f0c085abf2121c951b69b2c8a9908a86bbd00bec0b3fa8e\n",
            "Successfully built fastdtw pubchempy pyprimes\n",
            "Installing collected packages: pyprimes, pubchempy, paddle-bfloat, pycryptodome, protobuf, networkx, fastdtw, duet, deprecation, bidict, astor, pyscf, paddlepaddle, bce-python-sdk, qcompute, google-api-core, cirq-core, cirq-google, openfermion, paddle_quantum\n",
            "  Attempting uninstall: protobuf\n",
            "    Found existing installation: protobuf 3.20.3\n",
            "    Uninstalling protobuf-3.20.3:\n",
            "      Successfully uninstalled protobuf-3.20.3\n",
            "  Attempting uninstall: networkx\n",
            "    Found existing installation: networkx 3.0\n",
            "    Uninstalling networkx-3.0:\n",
            "      Successfully uninstalled networkx-3.0\n",
            "  Attempting uninstall: google-api-core\n",
            "    Found existing installation: google-api-core 2.11.0\n",
            "    Uninstalling google-api-core-2.11.0:\n",
            "      Successfully uninstalled google-api-core-2.11.0\n",
            "\u001b[31mERROR: pip's dependency resolver does not currently take into account all the packages that are installed. This behaviour is the source of the following dependency conflicts.\n",
            "tensorflow 2.12.0 requires protobuf!=4.21.0,!=4.21.1,!=4.21.2,!=4.21.3,!=4.21.4,!=4.21.5,<5.0.0dev,>=3.20.3, but you have protobuf 3.19.6 which is incompatible.\u001b[0m\u001b[31m\n",
            "\u001b[0mSuccessfully installed astor-0.8.1 bce-python-sdk-0.8.83 bidict-0.22.1 cirq-core-1.1.0 cirq-google-1.1.0 deprecation-2.1.0 duet-0.2.7 fastdtw-0.3.4 google-api-core-1.34.0 networkx-2.8.8 openfermion-1.5.1 paddle-bfloat-0.1.2 paddle_quantum-2.3.0 paddlepaddle-2.3.0 protobuf-3.19.6 pubchempy-1.0.4 pycryptodome-3.17 pyprimes-0.1 pyscf-2.2.1 qcompute-2.0.4\n",
            "Looking in indexes: https://pypi.org/simple, https://us-python.pkg.dev/colab-wheels/public/simple/\n",
            "Requirement already satisfied: numpy in /usr/local/lib/python3.9/dist-packages (1.22.4)\n"
          ]
        },
        {
          "output_type": "stream",
          "name": "stderr",
          "text": [
            "/usr/local/lib/python3.9/dist-packages/openfermion/hamiltonians/hartree_fock.py:11: DeprecationWarning: Please use `OptimizeResult` from the `scipy.optimize` namespace, the `scipy.optimize.optimize` namespace is deprecated.\n",
            "  from scipy.optimize.optimize import OptimizeResult\n",
            "/usr/local/lib/python3.9/dist-packages/paddle/tensor/creation.py:125: DeprecationWarning: `np.object` is a deprecated alias for the builtin `object`. To silence this warning, use `object` by itself. Doing this will not modify any behavior and is safe. \n",
            "Deprecated in NumPy 1.20; for more details and guidance: https://numpy.org/devdocs/release/1.20.0-notes.html#deprecations\n",
            "  if data.dtype == np.object:\n"
          ]
        }
      ],
      "source": [
        "!pip install paddle_quantum\n",
        "!pip install numpy\n",
        "# # import packages\n",
        "import paddle\n",
        "import numpy as np\n",
        "from paddle_quantum.ansatz import Circuit\n",
        "from paddle_quantum.linalg import dagger\n",
        "from paddle_quantum.state import State\n",
        "import matplotlib.pyplot as plt\n",
        "import warnings\n",
        "warnings.filterwarnings(action='ignore')"
      ]
    },
    {
      "cell_type": "code",
      "execution_count": 3,
      "metadata": {
        "id": "gOH52V5dK45J"
      },
      "outputs": [],
      "source": [
        "def circuit(N, DEPTH):\n",
        "    \"\"\"\n",
        "    Input data:\n",
        "         N,         qubits number\n",
        "         DEPTH,     layers number\n",
        "    Return:\n",
        "         cir,       the final circuit\n",
        "    \"\"\"\n",
        "    # step 1.1: Create an N qubit circuit\n",
        "    cir = Circuit(N)\n",
        "    # step 1.2: Add gates to each layer\n",
        "    for dep in range(DEPTH):\n",
        "        for n in range(N):\n",
        "            cir.rx(n)  # add an Rx gate to the n-th qubit\n",
        "            # cir.ry(n)  # add an Rx gate to the n-th qubit\n",
        "            cir.rz(n)  # add an Rz gate to the n-th qubit\n",
        "        for n in range(N-1):\n",
        "            cir.cnot([n, n + 1])  # add CNOT gate to every neighbor pair\n",
        "    return cir"
      ]
    },
    {
      "cell_type": "code",
      "execution_count": null,
      "metadata": {
        "colab": {
          "base_uri": "https://localhost:8080/"
        },
        "id": "o774dVbdK6OA",
        "outputId": "4d7c094c-e98e-4f43-ffe5-c6928c0a8c66"
      },
      "outputs": [
        {
          "name": "stdout",
          "output_type": "stream",
          "text": [
            "--Rx(1.162)----Rz(1.268)----*----Rx(5.195)----Rz(3.052)---------------------*--------Rx(3.536)----Rz(3.299)---------------------*--------Rx(1.887)----Rz(5.832)---------------------*--------Rx(4.096)----Rz(2.088)---------------------*-----------------------------\n",
            "                            |                                               |                                                   |                                                   |                                                   |                             \n",
            "--Rx(1.763)----Rz(1.438)----x--------*--------Rx(3.750)----Rz(2.164)--------x------------*--------Rx(0.339)----Rz(4.735)--------x------------*--------Rx(1.986)----Rz(3.403)--------x------------*--------Rx(5.347)----Rz(5.818)--------x------------*----------------\n",
            "                                     |                                                   |                                                   |                                                   |                                                   |                \n",
            "--Rx(1.953)----Rz(2.276)-------------x------------*--------Rx(3.471)----Rz(3.008)--------x------------*--------Rx(1.976)----Rz(2.486)--------x------------*--------Rx(0.552)----Rz(2.838)--------x------------*--------Rx(5.902)----Rz(3.521)--------x--------*-------\n",
            "                                                  |                                                   |                                                   |                                                   |                                               |       \n",
            "--Rx(0.020)----Rz(1.282)--------------------------x------------*--------Rx(1.431)----Rz(3.286)--------x------------*--------Rx(1.833)----Rz(2.088)--------x------------*--------Rx(0.379)----Rz(3.352)--------x------------*--------Rx(2.116)----Rz(1.762)----x----*--\n",
            "                                                               |                                                   |                                                   |                                                   |                                       |  \n",
            "--Rx(6.025)----Rz(1.289)---------------------------------------x--------Rx(5.975)----Rz(5.137)---------------------x--------Rx(3.291)----Rz(0.685)---------------------x--------Rx(1.117)----Rz(3.502)---------------------x--------Rx(4.328)----Rz(2.920)---------x--\n",
            "                                                                                                                                                                                                                                                                      \n"
          ]
        }
      ],
      "source": [
        "N = 3\n",
        "DEPTH = 2\n",
        "cir = circuit(N, DEPTH) # initialized with random theta\n",
        "print(cir) "
      ]
    },
    {
      "cell_type": "code",
      "execution_count": 4,
      "metadata": {
        "id": "ByFquwTlK76m"
      },
      "outputs": [],
      "source": [
        "def loss_func(cir: Circuit, psi: State) -> paddle.Tensor:\n",
        "    final_state = cir().data\n",
        "    psi_target = psi.data\n",
        "    inner = paddle.matmul(dagger(final_state), psi_target)\n",
        "    loss = -paddle.real(paddle.matmul(dagger(inner), inner))\n",
        "    return loss"
      ]
    },
    {
      "cell_type": "code",
      "execution_count": null,
      "metadata": {
        "colab": {
          "base_uri": "https://localhost:8080/"
        },
        "id": "UAqRmEdPK_x2",
        "outputId": "f7947c68-7957-40c6-9162-987f467fa433"
      },
      "outputs": [
        {
          "name": "stdout",
          "output_type": "stream",
          "text": [
            "iter: 0   loss: -0.0142\n",
            "iter: 10   loss: -0.8599\n",
            "iter: 20   loss: -0.9108\n",
            "iter: 30   loss: -0.9972\n",
            "iter: 40   loss: -0.9897\n",
            "iter: 50   loss: -0.9964\n",
            "iter: 60   loss: -0.9998\n",
            "iter: 70   loss: -0.9998\n",
            "iter: 80   loss: -0.9998\n",
            "iter: 90   loss: -0.9999\n"
          ]
        }
      ],
      "source": [
        "N = 3\n",
        "DEPTH = 2\n",
        "cir = circuit(N, DEPTH)\n",
        "ITR = 100    # iteration number\n",
        "LR = 0.2   # learning rate\n",
        "\n",
        "# The target state \n",
        "psi_vec = np.kron(np.kron(np.array([[1],[0]]), np.array([[0], [1]])), np.array([[1/np.sqrt(2)], [1/np.sqrt(2)]]))\n",
        "\n",
        "# Convert the target state to a State\n",
        "psi_target = State(paddle.to_tensor(psi_vec).cast('complex64'))\n",
        "\n",
        "# Record the loss in each iteration:\n",
        "loss_list = []\n",
        "\n",
        "# use Adam optimizer\n",
        "opt = paddle.optimizer.Adam(learning_rate = LR, parameters = cir.parameters())\n",
        "\n",
        "# Optimize during iteration\n",
        "for itr in range(ITR):\n",
        "    # Calculate the loss\n",
        "    loss = loss_func(cir, psi_target)\n",
        "    # Backward optimize via Gradient descent algorithm\n",
        "    loss.backward()\n",
        "    opt.minimize(loss)\n",
        "    opt.clear_grad()\n",
        "    # Record the learning curve\n",
        "    loss_list.append(loss.numpy())\n",
        "    if itr % 10 == 0:\n",
        "        print('iter:', itr, '  loss: %.4f' % loss.numpy())"
      ]
    },
    {
      "cell_type": "code",
      "execution_count": null,
      "metadata": {
        "colab": {
          "base_uri": "https://localhost:8080/"
        },
        "id": "pS4vTDLXP-D9",
        "outputId": "8780db27-7524-4a50-cd70-f02a39af9e3f"
      },
      "outputs": [
        {
          "data": {
            "text/plain": [
              "(array([0.05305965, 0.00866172, 0.00866824, ..., 0.00536232, 0.03084585,\n",
              "        0.05093059]),\n",
              " Tensor(shape=[1024], dtype=complex64, place=Place(cpu), stop_gradient=False,\n",
              "        [(0.02871686778962612-0.0027935451362282038j) ,\n",
              "         (0.029781939461827278-0.002938721561804414j) ,\n",
              "         (0.03112160600721836-0.002967224922031164j)  ,\n",
              "         ...,\n",
              "         (0.03138867765665054-0.0029243608005344868j) ,\n",
              "         (0.03003772906959057-0.0028985259123146534j) ,\n",
              "         (0.028963429853320122-0.0027544593904167414j)]))"
            ]
          },
          "execution_count": 81,
          "metadata": {},
          "output_type": "execute_result"
        }
      ],
      "source": [
        "psi_vec, cir().data # dagger of a ket is its bra"
      ]
    },
    {
      "cell_type": "code",
      "execution_count": null,
      "metadata": {
        "colab": {
          "base_uri": "https://localhost:8080/"
        },
        "id": "bXdE8j3pLv4Q",
        "outputId": "ea9f0835-6815-4d1b-aca0-d13ca3a1e3f3"
      },
      "outputs": [
        {
          "name": "stdout",
          "output_type": "stream",
          "text": [
            "The minimum of the loss function:  [-0.99998784]\n",
            "Parameters after optimizationL theta:\n",
            " [array([[3.1402774]], dtype=float32), array([[3.1470275]], dtype=float32), array([[6.2847943]], dtype=float32), array([[1.6420169]], dtype=float32), array([[-0.14469518]], dtype=float32), array([[5.686759]], dtype=float32), array([[3.1435096]], dtype=float32), array([[5.910276]], dtype=float32), array([[-0.00704579]], dtype=float32), array([[2.984685]], dtype=float32), array([[4.833617]], dtype=float32), array([[1.4916052]], dtype=float32)] \n",
            "\n",
            "--Rx(3.140)----Rz(3.147)----*----Rx(3.144)----Rz(5.910)-----------------*-------\n",
            "                            |                                           |       \n",
            "--Rx(6.285)----Rz(1.642)----x--------*--------Rx(-0.00)----Rz(2.985)----x----*--\n",
            "                                     |                                       |  \n",
            "--Rx(-0.14)----Rz(5.687)-------------x--------Rx(4.834)----Rz(1.492)---------x--\n",
            "                                                                                \n"
          ]
        }
      ],
      "source": [
        "# Print the output\n",
        "print('The minimum of the loss function: ', loss_list[-1])\n",
        "\n",
        "# The parameters after optimization\n",
        "theta_final = [param.numpy() for param in cir.parameters()]\n",
        "print(\"Parameters after optimizationL theta:\\n\", theta_final, \"\\n\")\n",
        "\n",
        "# Draw the circuit picture and the output state\n",
        "print(cir)"
      ]
    },
    {
      "cell_type": "code",
      "execution_count": null,
      "metadata": {
        "colab": {
          "base_uri": "https://localhost:8080/",
          "height": 538
        },
        "id": "8oKvapUfL_V9",
        "outputId": "c13d76f3-b41f-4c83-e708-f19baeea6e93"
      },
      "outputs": [
        {
          "name": "stdout",
          "output_type": "stream",
          "text": [
            "state_final:\n",
            " [ 8.9436863e-04-1.7094088e-03j  1.5389855e-03-2.6455927e-03j\n",
            "  6.5920347e-01+2.5703034e-01j  6.5886879e-01+2.5546801e-01j\n",
            " -1.9021682e-06-6.7933172e-04j -5.9945160e-07-6.7691051e-04j\n",
            " -4.6651042e-04-3.2612486e-05j  4.5126147e-04+1.0566579e-04j]\n"
          ]
        },
        {
          "data": {
            "image/png": "[encoded data removed]",
            "text/plain": [
              "<Figure size 640x480 with 1 Axes>"
            ]
          },
          "metadata": {},
          "output_type": "display_data"
        }
      ],
      "source": [
        "# Print the final state\n",
        "state_final = cir()\n",
        "print(\"state_final:\\n\", state_final.data.numpy())\n",
        "\n",
        "# Print the loss function during iteration\n",
        "plt.figure(1)\n",
        "ITR_list = []\n",
        "for i in range(ITR):\n",
        "    ITR_list.append(i)\n",
        "func = plt.plot(ITR_list, loss_list, alpha=0.7, marker='', linestyle='-', color='r')\n",
        "plt.xlabel('iterations')\n",
        "plt.ylabel('loss')\n",
        "plt.legend(labels=[\"loss function during iteration\"], loc='best')\n",
        "plt.show()"
      ]
    },
    {
      "cell_type": "code",
      "execution_count": 5,
      "metadata": {
        "id": "JP1bM33UFBCY"
      },
      "outputs": [],
      "source": [
        "def prepare_state(N, DEPTH, ITR, LR, tar_vec):\n",
        "  cir = circuit(N, DEPTH)\n",
        "  tensor_tar = State(paddle.to_tensor(tar_vec).cast('complex64'))\n",
        "  loss_list = []\n",
        "  opt = paddle.optimizer.Adam(learning_rate = LR, parameters = cir.parameters())\n",
        "  for itr in range(ITR):\n",
        "    loss = loss_func(cir, tensor_tar)\n",
        "    loss.backward()\n",
        "    opt.minimize(loss)\n",
        "    opt.clear_grad()\n",
        "    loss_list.append(loss.numpy())\n",
        "  return loss_list, cir\n",
        "  "
      ]
    },
    {
      "cell_type": "code",
      "execution_count": null,
      "metadata": {
        "colab": {
          "base_uri": "https://localhost:8080/"
        },
        "id": "o6E2EpxHSmtG",
        "outputId": "982f9194-7e41-4f60-86c4-a734e9a24666"
      },
      "outputs": [
        {
          "name": "stdout",
          "output_type": "stream",
          "text": [
            "Target state phi_plus [0.71 0.   0.   0.71]\n",
            "Output [ 5.84e-02+7.05e-01j -1.61e-05-1.13e-05j  1.59e-05-8.68e-06j\n",
            "  5.84e-02+7.05e-01j]\n",
            "Target state phi_minus [ 0.71  0.    0.   -0.71]\n",
            "Output [-7.04e-01-6.90e-02j  8.39e-07-4.16e-05j -5.96e-06-1.04e-05j\n",
            "  7.04e-01+6.90e-02j]\n",
            "Target state psi_plus [0.   0.71 0.71 0.  ]\n",
            "Output [-2.26e-05-1.69e-05j  2.11e-01-6.75e-01j  2.11e-01-6.75e-01j\n",
            "  7.47e-05-4.73e-05j]\n",
            "Target state psi_minus [ 0.    0.71 -0.71  0.  ]\n",
            "Output [ 3.30e-05-9.61e-06j -1.75e-01+6.85e-01j  1.75e-01-6.85e-01j\n",
            "  3.42e-05-7.54e-06j]\n"
          ]
        }
      ],
      "source": [
        "phi_plus = np.kron(np.array([1, 0]), np.array([1, 0])) / np.sqrt(2) + np.kron(np.array([0, 1]), np.array([0, 1])) / np.sqrt(2)\n",
        "phi_minus = np.kron(np.array([1, 0]), np.array([1, 0])) / np.sqrt(2) - np.kron(np.array([0, 1]), np.array([0, 1])) / np.sqrt(2)\n",
        "psi_plus = np.kron(np.array([1, 0]), np.array([0, 1])) / np.sqrt(2) + np.kron(np.array([0, 1]), np.array([1, 0])) / np.sqrt(2)\n",
        "psi_minus = np.kron(np.array([1, 0]), np.array([0, 1])) / np.sqrt(2) - np.kron(np.array([0, 1]), np.array([1, 0])) / np.sqrt(2)\n",
        "N, D = 2, 2\n",
        "ITR, LR = 200, 0.1\n",
        "loss_all, state_name = [], ['phi_plus', 'phi_minus', 'psi_plus', 'psi_minus']\n",
        "for i, tar_vec in enumerate([phi_plus, phi_minus, psi_plus,psi_minus]):\n",
        "  np.set_printoptions(precision=2)\n",
        "  loss_list, cir = prepare_state(N, DEPTH, ITR, LR, tar_vec)\n",
        "  print(f'Target state {state_name[i]}', tar_vec)\n",
        "  print('Output', cir().data.numpy())\n",
        "  loss_all.append(loss_list)"
      ]
    },
    {
      "cell_type": "code",
      "execution_count": null,
      "metadata": {
        "colab": {
          "base_uri": "https://localhost:8080/",
          "height": 472
        },
        "id": "DhtENjcwGE4M",
        "outputId": "0facce42-b85f-4e32-e1fa-8f0e8bdbc79f"
      },
      "outputs": [
        {
          "data": {
            "image/png": "[encoded data removed]",
            "text/plain": [
              "<Figure size 640x480 with 1 Axes>"
            ]
          },
          "metadata": {},
          "output_type": "display_data"
        }
      ],
      "source": [
        "ITR_list = [i for i in range(ITR)]\n",
        "plt.figure(1)\n",
        "plt.xlabel(\"iterations\")\n",
        "plt.ylabel(\"loss\")\n",
        "plt.title(\"Bell Measurement Loss\")\n",
        "for i in range(4):\n",
        "    plt.plot(ITR_list, loss_all[i], label = state_name[i])\n",
        "plt.legend()\n",
        "plt.show()"
      ]
    },
    {
      "cell_type": "code",
      "execution_count": 8,
      "metadata": {
        "colab": {
          "base_uri": "https://localhost:8080/"
        },
        "id": "YoVpybdTUbMc",
        "outputId": "6db9dcb2-9715-481e-a025-044315fa2528"
      },
      "outputs": [
        {
          "output_type": "stream",
          "name": "stdout",
          "text": [
            "Training with depth 3 and learning rate 0.2 reached loss [-0.879529].\n",
            "Training with depth 4 and learning rate 0.2 reached loss [-0.959939].\n",
            "Training with depth 5 and learning rate 0.2 reached loss [-0.977896].\n",
            "Training with depth 6 and learning rate 0.2 reached loss [-0.99896].\n",
            "Training with depth 7 and learning rate 0.2 reached loss [-0.99926].\n",
            "Training with depth 8 and learning rate 0.2 reached loss [-0.999189].\n",
            "Training with depth 9 and learning rate 0.2 reached loss [-0.999264].\n",
            "Training with depth 10 and learning rate 0.2 reached loss [-0.999031].\n",
            "Training with depth 3 and learning rate 0.1 reached loss [-0.879624].\n",
            "Training with depth 4 and learning rate 0.1 reached loss [-0.940115].\n",
            "Training with depth 5 and learning rate 0.1 reached loss [-0.989532].\n",
            "Training with depth 6 and learning rate 0.1 reached loss [-0.99943].\n",
            "Training with depth 7 and learning rate 0.1 reached loss [-0.999887].\n",
            "Training with depth 8 and learning rate 0.1 reached loss [-0.999875].\n",
            "Training with depth 9 and learning rate 0.1 reached loss [-0.997501].\n",
            "Training with depth 10 and learning rate 0.1 reached loss [-0.999997].\n",
            "Training with depth 3 and learning rate 0.05 reached loss [-0.879624].\n",
            "Training with depth 4 and learning rate 0.05 reached loss [-0.966085].\n",
            "Training with depth 5 and learning rate 0.05 reached loss [-0.970262].\n",
            "Training with depth 6 and learning rate 0.05 reached loss [-0.998686].\n",
            "Training with depth 7 and learning rate 0.05 reached loss [-0.99983].\n",
            "Training with depth 8 and learning rate 0.05 reached loss [-1.].\n",
            "Training with depth 9 and learning rate 0.05 reached loss [-1.].\n",
            "Training with depth 10 and learning rate 0.05 reached loss [-1.].\n",
            "Training with depth 3 and learning rate 0.02 reached loss [-0.868289].\n",
            "Training with depth 4 and learning rate 0.02 reached loss [-0.970629].\n",
            "Training with depth 5 and learning rate 0.02 reached loss [-0.964137].\n",
            "Training with depth 6 and learning rate 0.02 reached loss [-0.99501].\n",
            "Training with depth 7 and learning rate 0.02 reached loss [-0.999469].\n",
            "Training with depth 8 and learning rate 0.02 reached loss [-1.].\n",
            "Training with depth 9 and learning rate 0.02 reached loss [-1.].\n",
            "Training with depth 10 and learning rate 0.02 reached loss [-1.].\n",
            "Training with depth 3 and learning rate 0.01 reached loss [-0.878035].\n",
            "Training with depth 4 and learning rate 0.01 reached loss [-0.929209].\n",
            "Training with depth 5 and learning rate 0.01 reached loss [-0.974358].\n",
            "Training with depth 6 and learning rate 0.01 reached loss [-0.99196].\n",
            "Training with depth 7 and learning rate 0.01 reached loss [-0.998839].\n",
            "Training with depth 8 and learning rate 0.01 reached loss [-0.999918].\n",
            "Training with depth 9 and learning rate 0.01 reached loss [-0.999999].\n",
            "Training with depth 10 and learning rate 0.01 reached loss [-1.].\n"
          ]
        }
      ],
      "source": [
        "large_state = np.random.rand(32)\n",
        "large_state = large_state / np.linalg.norm(large_state) # normalized to unit vector\n",
        "ITR, N = 500, 5\n",
        "loss_all = [[], [], [], [], []]\n",
        "DEPTHs = [i for i in range(3, 11)]\n",
        "LRs = [0.2, 0.1, 0.05, 0.02, 0.01]\n",
        "for i, LR in enumerate(LRs):\n",
        "  for DEPTH in DEPTHs:\n",
        "    np.set_printoptions(precision=6)\n",
        "    loss_list, cir = prepare_state(N, DEPTH, ITR, LR, large_state)\n",
        "    loss_all[i].append(loss_list[-1])\n",
        "    print(f'Training with depth {DEPTH} and learning rate {LR} reached loss {loss_list[-1]}.')\n",
        "  \n"
      ]
    }
  ],
  "metadata": {
    "colab": {
      "provenance": [],
      "authorship_tag": "ABX9TyPgst/+xCOv4W74IFgbi7bq",
      "include_colab_link": true
    },
    "kernelspec": {
      "display_name": "Python 3",
      "name": "python3"
    },
    "language_info": {
      "name": "python"
    }
  },
  "nbformat": 4,
  "nbformat_minor": 0
}